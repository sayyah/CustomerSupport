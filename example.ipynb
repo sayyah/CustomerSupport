{
 "cells": [
  {
   "cell_type": "code",
   "execution_count": 1,
   "metadata": {},
   "outputs": [
    {
     "name": "stderr",
     "output_type": "stream",
     "text": [
      "UsageError: Line magic function `%` not found.\n"
     ]
    }
   ],
   "source": [
    "%%capture --no-stderr\n",
    "% pip install -U langgraph langchain-community langchain-anthropic tavily-python pandas"
   ]
  },
  {
   "cell_type": "code",
   "execution_count": 2,
   "metadata": {},
   "outputs": [],
   "source": [
    "import config\n",
    "import os\n",
    "\n",
    "os.environ[\"ANTHROPIC_API_KEY\"] = config.ANTHROPIC_API_KEY\n",
    "os.environ[\"TAVILY_API_KEY\"] = config.TAVILY_API_KEY\n",
    "os.environ[\"LANGCHAIN_API_KEY\"] = config.LANGCHAIN_API_KEY\n",
    "os.environ[\"LANGCHAIN_TRACING_V2\"] = \"true\"\n",
    "os.environ[\"LANGCHAIN_PROJECT\"] = \"Customer Support Bot Tutorial\""
   ]
  },
  {
   "cell_type": "code",
   "execution_count": 3,
   "metadata": {},
   "outputs": [],
   "source": [
    "from PyPackage.database import Database\n",
    "\n",
    "if not os.path.isfile(\"DataBase\\\\travel2.sqlite\"):\n",
    "    Database()"
   ]
  },
  {
   "cell_type": "code",
   "execution_count": 4,
   "metadata": {},
   "outputs": [
    {
     "name": "stdout",
     "output_type": "stream",
     "text": [
      "[{'page_content': 'اگر در زمان استفاده از کد تخفیف با پیغام خطا مواجه شدم، چه باید بکنم؟'}, {'page_content': 'آیا امکان خرید تور از سایت فلای\\u200cتودی وجود دارد؟'}, {'page_content': 'چگونه می\\u200cتوانم اطلاعات کاربری خود را تغییر دهم؟'}, {'page_content': 'چگونه می\\u200cتوانم شماره شبا خود را در حساب کاربری ثبت کنم؟'}, {'page_content': 'اگر رمز عبور ایمیل را فراموش کردم، چیکار کنم ؟'}, {'page_content': 'در صورتی که در هنگام خرید نتوانستم اسامی همراهان خود را وارد کنم، چه باید بکنم؟'}, {'page_content': 'امتیاز خرید چگونه محاسبه می شود؟'}, {'page_content': 'آیا امکان انتقال امتیاز از یک حساب کاربری به حساب کاربری دیگر وجود دارد؟'}, {'page_content': 'شرایط و قوانین واکسیناسیون (کرونا) برای ورود به کشور (مقصد مورد نظر مسافر)  به چه صورت است؟'}, {'page_content': 'آیا به صورت اقساطی می\\u200cتوان از فلای\\u200cتودی خرید کرد؟'}, {'page_content': 'اگر برای خرید از امتیازم استفاده کنم ولی بنا به دلایلی خریدم کنسل شود، مجدد می توانم از آن کد استفاده کنم؟'}]\n"
     ]
    }
   ],
   "source": [
    "from PyPackage.agent import Agent\n",
    "\n",
    "agent = Agent()"
   ]
  },
  {
   "cell_type": "code",
   "execution_count": 5,
   "metadata": {},
   "outputs": [],
   "source": [
    "import uuid\n",
    "\n",
    "passenger_id = '3442 587242'\n",
    "\n",
    "config = {\n",
    "    'configurable': {\n",
    "        'passenger_id': passenger_id,\n",
    "        'thread_id': str(uuid.uuid4()),\n",
    "    }\n",
    "}"
   ]
  },
  {
   "cell_type": "code",
   "execution_count": 6,
   "metadata": {},
   "outputs": [
    {
     "ename": "AttributeError",
     "evalue": "'Agent' object has no attribute '_graph'",
     "output_type": "error",
     "traceback": [
      "\u001b[1;31m---------------------------------------------------------------------------\u001b[0m",
      "\u001b[1;31mAttributeError\u001b[0m                            Traceback (most recent call last)",
      "Cell \u001b[1;32mIn[6], line 2\u001b[0m\n\u001b[0;32m      1\u001b[0m question \u001b[38;5;241m=\u001b[39m \u001b[38;5;124m\"\u001b[39m\u001b[38;5;124mساعت الان چنده؟\u001b[39m\u001b[38;5;124m\"\u001b[39m\n\u001b[1;32m----> 2\u001b[0m \u001b[43magent\u001b[49m\u001b[38;5;241;43m.\u001b[39;49m\u001b[43mrun\u001b[49m\u001b[43m(\u001b[49m\u001b[43mquestion\u001b[49m\u001b[43m,\u001b[49m\u001b[43m \u001b[49m\u001b[43mconfig\u001b[49m\u001b[43m)\u001b[49m\n",
      "File \u001b[1;32mg:\\Learning\\AI\\GenAI\\Projects\\Customer Support\\PyPackage\\agent.py:188\u001b[0m, in \u001b[0;36mAgent.run\u001b[1;34m(self, question, config, reset_db, clear_message_history)\u001b[0m\n\u001b[0;32m    185\u001b[0m user_message \u001b[38;5;241m=\u001b[39m HumanMessage(question)\n\u001b[0;32m    186\u001b[0m new_messages\u001b[38;5;241m.\u001b[39mappend(user_message)\n\u001b[1;32m--> 188\u001b[0m events \u001b[38;5;241m=\u001b[39m \u001b[38;5;28;43mself\u001b[39;49m\u001b[38;5;241;43m.\u001b[39;49m\u001b[43m_graph\u001b[49m\u001b[38;5;241m.\u001b[39mstream(\n\u001b[0;32m    189\u001b[0m     {\u001b[38;5;124m'\u001b[39m\u001b[38;5;124mmessages\u001b[39m\u001b[38;5;124m'\u001b[39m: new_messages}, config, stream_mode\u001b[38;5;241m=\u001b[39m\u001b[38;5;124m'\u001b[39m\u001b[38;5;124mvalues\u001b[39m\u001b[38;5;124m'\u001b[39m\n\u001b[0;32m    190\u001b[0m )\n\u001b[0;32m    192\u001b[0m \u001b[38;5;28;01mfor\u001b[39;00m event \u001b[38;5;129;01min\u001b[39;00m events:\n\u001b[0;32m    193\u001b[0m     print_event(event, \u001b[38;5;28mself\u001b[39m\u001b[38;5;241m.\u001b[39m_printed_messages)\n",
      "\u001b[1;31mAttributeError\u001b[0m: 'Agent' object has no attribute '_graph'"
     ]
    }
   ],
   "source": [
    "question = \"ساعت الان چنده؟\"\n",
    "agent.run(question, config)"
   ]
  }
 ],
 "metadata": {
  "kernelspec": {
   "display_name": "Python 3",
   "language": "python",
   "name": "python3"
  },
  "language_info": {
   "codemirror_mode": {
    "name": "ipython",
    "version": 3
   },
   "file_extension": ".py",
   "mimetype": "text/x-python",
   "name": "python",
   "nbconvert_exporter": "python",
   "pygments_lexer": "ipython3",
   "version": "3.11.5"
  }
 },
 "nbformat": 4,
 "nbformat_minor": 2
}
